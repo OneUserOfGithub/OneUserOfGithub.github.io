def main():
  fabula = "/v01010 , mea Lesbia, atque /v01010 , rumoresque /n11m severiorum omnes unius aestimemus /n10m ! soles /v03023 et /v03023 possunt; nobis, cum semel occidit brevis /n00x , /n00f est perpetua una dormienda. da mi /n01n mille, deinde centum, dein mille altera, dein secunda centum, deinde usque altera mille, deinde centum; dein, cum milia multa /v00510 , /v00210 illa, ne /v01010 , aut ne quis malus /v03023 possit, cum tantum sciat esse /n11a ."
  fabula_list = fabula.split()
  cas_list = ['nominative', 'genitive', 'dative', 'accusative', 'ablative', 'any case']
  number_list = ['singular', 'plural', 'any number']
  gender_dict = {'m': 'masculine', 'f': 'feminine', 'n': 'neuter', 'x': 'masculine/feminine', 'a': 'any gender'}
  voice_list = ['active', 'passive', 'any voice']
  mood_list = ['indicative', 'subjunctive', 'imperative', 'infinitive', 'any mood']
  tense_list = ['present', 'imperfect', 'future', 'perfect', 'pluperfect', 'future perfect', 'any tense']
  person_list = ['first person', 'second person', 'third person', 'any person']
  for i in range(len(fabula_list)):
    if (fabula_list[i][0] == '/'):
      cas = 5
      number = 2
      gender = 'a'
      voice = 2
      mood = 4
      tense = 6
      #number = 2
      person = 3
      result = 0
      if (fabula_list[i][1] == 'n'):
        cas = int(fabula_list[i][2])
        number = int(fabula_list[i][3])
        gender = fabula_list[i][4]
        input_text = ' '.join(("Noun:", cas_list[cas], number_list[number], gender_dict[gender]))
        while (result == 0):
          result = noun_check(input(input_text).lower(), cas, number, gender)
          if (result == 0):
            print("No match to specified noun")
      elif (fabula_list[i][1] == 'v'):
        voice = int(fabula_list[i][2])
        mood = int(fabula_list[i][3])
        tense = int(fabula_list[i][4])
        number = int(fabula_list[i][5])
        person = int(fabula_list[i][6])
        input_text = ' '.join(("Verb:", voice_list[voice], mood_list[mood], tense_list[tense], number_list[number], person_list[person]))
        while (result == 0):
          result = verb_check(input(input_text).lower(), voice, mood, tense, number, person)
          if (result == 0):
            print("No match to specified verb")
      fabula_list[i] = ''.join(('_', result[0], '_'))
  fabula = ' '.join(fabula_list)
  print(fabula)

# sg: [nom, gen, dat, acc, abl] pl: [...]
fir_decl = [['a', 'ae', 'ae', 'am', 'a'], ['ae', 'arum', 'is', 'as', 'is']] # 0

sec_decl_m = [['us', 'i', 'o', 'um', 'o'], ['i', 'orum', 'is', 'os', 'is']] # 1
sec_decl_m_ir = [[0, 'i', 'o', 'um', 'o'], ['i', 'orum', 'is', 'os', 'is']] # 2
sec_decl_n = [['um', 'i', 'o', 'um', 'o'], ['a', 'orum', 'is', 'a', 'is']] # 3

thi_decl_x = [[0, 'is', 'i', 'em', 'e'], ['es', 'um', 'ibus', 'es', 'ibus']] # 4
thi_decl_n = [[0, 'is', 'i', 0, 'e'], ['a', 'um', 'ibus', 'a', 'ibus']] # 5
thi_decl_x_i = [[0, 'is', 'i', 'em', 'e'], ['es', 'ium', 'ibus', 'es', 'ibus']] # 6
thi_decl_n_i = [[0, 'is', 'i', 0, 'i'], ['ia', 'ium', 'ibus', 'ia', 'ibus']] # 7

fou_decl_x = [['us', 'us', 'ui', 'um', 'u'], ['us', 'uum', 'ibus', 'us', 'ibus']] # 8
fou_decl_n = [['u', 'us', 'u', 'u', 'u'], ['ua', 'uum', 'ibus', 'ua', 'ibus']] # 9

fif_decl = [['es', 'ei', 'ei', 'em', 'e'], ['es', 'erum', 'ebus', 'es', 'ebus']] # 10

noun_decl = [fir_decl, sec_decl_m, sec_decl_m_ir, sec_decl_n, thi_decl_x, thi_decl_n, thi_decl_x_i, thi_decl_n_i, fou_decl_x, fou_decl_n, fif_decl]

nouns = {
    #word: [stem, decl (or list, if irregular), gender, (0 = no singular, 1 = no plural)]
    'ager': ['agr', 2, 'm'],
    'agricola': [0, 0, 'm'],
    'amica': [0, 0, 'f'],
    'amicus': [0, 1, 'm'],
    'amor': ['amor', 4, 'm'],
    'animal': ['animal', 7, 'n'],
    'animus': [0, 1, 'm'],
    'aqua': [0, 0, 'f'],
    'armum': [0, 3, 'n', 0],
    'bellum': [0, 3, 'n'],
    'caput': ['capit', 5, 'n'],
    'castrum': [0, 3, 'n', 0],
    'civis': ['civ', 6, 'x'],
    'consilium': [0, 3, 'n'],
    'corpus': ['corpor', 5, 'n'],
    'dea': [0, 0, 'f'],
    'deus': [0, 1, 'm'],
    'donum': [0, 3, 'n'],
    'dux': ['duc', 4, 'm'],
    'equus': [0, 1, 'm'],
    'fabula': [0, 0, 'f'],
    'familia': [0, 0, 'f'],
    'femina': [0, 0, 'f'],
    'filia': [0, 0, 'f'],
    'filius': [0, 1, 'm'],
    'flamma': [0, 0, 'f'],
    'fortitudo': ['fortitudin', 4, 'f'],
    'frater': ['fratr', 4, 'm'],
    'homo': ['homin', 4, 'm'],
    'hostis': ['host', 6, 'm'],
    'ignis': ['ign', 6, 'm'],
    'liber': ['libr', 2, 'm'],
    'littera': [0, 0, 'f'],
    'mare': ['mar', 7, 'n'],
    'miles': ['milit', 4, 'm'],
    'mors': ['mort', 6, 'f'],
    'mulier': ['mulier', 4, 'f'],
    'nauta': [0, 0, 'm'],
    'nomen': ['nomin', 5, 'n'],
    'nox': ['noct', 6, 'f'],
    'patria': [0, 0, 'f'],
    'pax': ['pac', 4, 'f'],
    'periculum': [0, 3, 'n'],
    'poeta': [0, 0, 'm'],
    'praemium': [0, 3, 'n'],
    'puella': [0, 0, 'f'],
    'puer': ['puer', 2, 'm'],
    'regina': [0, 0, 'f'],
    'rex': ['reg', 4, 'm'],
    'silva': [0, 0, 'f'],
    'soror': ['soror', 4, 'f'],
    'tempus': ['tempor', 5, 'n'],
    'terra': [0, 0, 'f'],
    'timor': ['timor', 4, 'm'],
    'urbs': ['urb', 6, 'f'],
    'verbum': [0, 3, 'n'],
    'via': [0, 0, 'f'],
    'vir': ['vir', 2, 'm'],
    'vita': [0, 0, 'f'],
    #'test1': [0, [['1', '2', '3', '4', '5'], ['6', '7', '8', '9', '10']], 'm'],
}

#case: 0: nom, 1: gen, 2: dat, 3: acc, 4: abl, 5: any
#number: 0: singular, 1: plural, 2: any
#gender: 'm': male, 'f': female, 'n': neuter, 'x': either male or female, 'a': any
def noun_check(word, case_, number, gender):
  for i in nouns:
    decl = []
    if (type(nouns[i][1]) == list):
      decl = nouns[i][1]
    else:
      decl = noun_decl[nouns[i][1]]
    if (nouns[i][0] == 0):
      end_length = len(decl[0][0])
      stem = i[:-end_length]
    else:
      stem = nouns[i][0]
    if (word == i or word.startswith(stem)):
      noun = i
      if (gender != 'a' and (gender != nouns[noun][2]) and not(gender == 'x' and nouns[noun][2] != 'n')):
        continue
      options = []
      for num in range(2):
        if (len(nouns[noun]) == 4 and nouns[noun][3] == num):
          continue
        for cas in range(5):
          if (decl[num][cas] == 0):
            if (word == noun):
              options.append((num, cas))
          else:
            if (word == ''.join((stem, decl[num][cas]))):
              options.append((num, cas))
      for i in options:
        if (number == 2 or i[0] == number):
          if (case_ == 5 or i[1] == case_):
            return (word, i[1], i[0], nouns[noun][2])
  return 0

# active:
# [ind:
#  [pres: [sg: [1, 2, 3], pl: [...]],
#   imp: [...],
#   fut: [...],
#   per: [...],
#   plu: [...],
#   fup: [...]
#   ],
#  sub: [...],
#  imp: [sg, pl],
#  inf: [pres, per]
#  ],
# passive: [...]
fir_con = [
  [
    [
      [['o', 'as', 'at'], ['amus', 'atis', 'ant']],
      [['abam', 'abas', 'abat'], ['abamus', 'abatis', 'abant']],
      [['abo', 'abis', 'abit'], ['abimus', 'abitis', 'abunt']],
      [['/i', '/isti', '/it'], ['/imus', '/istis', '/erunt']],
      [['/eram', '/eras', '/erat'], ['/eramus', '/eratis', '/erant']],
      [['/ero', '/eris', '/erit'], ['/erimus', '/eritis', '/erint']]
    ],
    [
      [['em', 'es', 'et'], ['emus', 'etis', 'ent']],
      [['arem', 'ares', 'aret'], ['aremus', 'aretis', 'arent']],
      0,
      [['/erim', '/eris', '/erit'], ['/erimus', '/eritis', '/erint']],
      [['/issem', '/isses', '/isset'], ['/issemus', '/issetis', '/issent']],
      0
    ],
    [
    'a',
    'ate'
    ],
    [
    'are',
    '/isse'
    ]
  ],
  [
    [
      [['or', 'aris', 'atur'], ['amur', 'amini', 'antur']],
      [['abar', 'abaris', 'abatur'], ['abamur', 'abamini', 'abantur']],
      [['abor', 'aberis', 'abitur'], ['abimur', 'abimini', 'abuntur']],
      0,
      0,
      0
    ],
    [
      [['er', 'eris', 'etur'], ['emur', 'emini', 'entur']],
      [['arer', 'areris', 'aretur'], ['aremur', 'aremini', 'arentur']],
      0,
      0,
      0,
      0
    ],
    [
    'are',
    'amini'
    ],
    'ari'
  ],
]
# 0

sec_con = [
  [
    [
      [['eo', 'es', 'et'], ['emus', 'etis', 'ent']],
      [['ebam', 'ebas', 'ebat'], ['ebamus', 'ebatis', 'ebant']],
      [['ebo', 'ebis', 'ebit'], ['ebimus', 'ebitis', 'ebunt']],
      [['/i', '/isti', '/it'], ['/imus', '/istis', '/erunt']],
      [['/eram', '/eras', '/erat'], ['/eramus', '/eratis', '/erant']],
      [['/ero', '/eris', '/erit'], ['/erimus', '/eritis', '/erint']]
    ],
    [
      [['eam', 'eas', 'eat'], ['eamus', 'eatis', 'eant']],
      [['erem', 'eres', 'eret'], ['eremus', 'eretis', 'erent']],
      0,
      [['/erim', '/eris', '/erit'], ['/erimus', '/eritis', '/erint']],
      [['/issem', '/isses', '/isset'], ['/issemus', '/issetis', '/issent']],
      0
    ],
    [
    'e',
    'ete'
    ],
    [
    'ere',
    '/isse'
    ]
  ],
  [
    [
      [['eor', 'eris', 'etur'], ['emur', 'emini', 'entur']],
      [['ebar', 'ebaris', 'ebatur'], ['ebamur', 'ebamini', 'ebantur']],
      [['ebor', 'eberis', 'ebitur'], ['ebimur', 'ebimini', 'ebuntur']],
      0,
      0,
      0
    ],
    [
      [['ear', 'earis', 'eatur'], ['eamur', 'eamini', 'eantur']],
      [['erer', 'ereris', 'eretur'], ['eremur', 'eremini', 'erentur']],
      0,
      0,
      0,
      0
    ],
    [
    'ere',
    'emini'
    ],
    'eri'
  ],
]
# 1

thi_con = [
  [
    [
      [['o', 'is', 'it'], ['imus', 'itis', 'unt']],
      [['ebam', 'ebas', 'ebat'], ['ebamus', 'ebatis', 'ebant']],
      [['am', 'es', 'et'], ['emus', 'etis', 'ent']],
      [['/i', '/isti', '/it'], ['/imus', '/istis', '/erunt']],
      [['/eram', '/eras', '/erat'], ['/eramus', '/eratis', '/erant']],
      [['/ero', '/eris', '/erit'], ['/erimus', '/eritis', '/erint']]
    ],
    [
      [['am', 'as', 'at'], ['amus', 'atis', 'ant']],
      [['erem', 'eres', 'eret'], ['eremus', 'eretis', 'erent']],
      0,
      [['/erim', '/eris', '/erit'], ['/erimus', '/eritis', '/erint']],
      [['/issem', '/isses', '/isset'], ['/issemus', '/issetis', '/issent']],
      0
    ],
    [
    'e',
    'ite'
    ],
    [
    'ere',
    '/isse'
    ]
  ],
  [
    [
      [['or', 'eris', 'itur'], ['imur', 'imini', 'untur']],
      [['ebar', 'ebaris', 'ebatur'], ['ebamur', 'ebamini', 'ebantur']],
      [['ar', 'eris', 'etur'], ['emur', 'emini', 'entur']],
      0,
      0,
      0
    ],
    [
      [['ar', 'aris', 'atur'], ['amur', 'amini', 'antur']],
      [['erer', 'ereris', 'eretur'], ['eremur', 'eremini', 'erentur']],
      0,
      0,
      0,
      0
    ],
    [
    'ere',
    'imini'
    ],
    'i'
  ],
]
# 2

thi_con_i = [
  [
    [
      [['io', 'is', 'it'], ['imus', 'itis', 'iunt']],
      [['iebam', 'iebas', 'iebat'], ['iebamus', 'iebatis', 'iebant']],
      [['iam', 'ies', 'iet'], ['iemus', 'ietis', 'ient']],
      [['/i', '/isti', '/it'], ['/imus', '/istis', '/erunt']],
      [['/eram', '/eras', '/erat'], ['/eramus', '/eratis', '/erant']],
      [['/ero', '/eris', '/erit'], ['/erimus', '/eritis', '/erint']]
    ],
    [
      [['iam', 'ias', 'iat'], ['iamus', 'iatis', 'iant']],
      [['erem', 'eres', 'eret'], ['eremus', 'eretis', 'erent']],
      0,
      [['/erim', '/eris', '/erit'], ['/erimus', '/eritis', '/erint']],
      [['/issem', '/isses', '/isset'], ['/issemus', '/issetis', '/issent']],
      0
    ],
    [
    'e',
    'ite'
    ],
    [
    'ere',
    '/isse'
    ]
  ],
  [
    [
      [['ior', 'eris', 'itur'], ['imur', 'imini', 'iuntur']],
      [['iebar', 'iebaris', 'iebatur'], ['iebamur', 'iebamini', 'iebantur']],
      [['iar', 'ieris', 'ietur'], ['iemur', 'iemini', 'ientur']],
      0,
      0,
      0
    ],
    [
      [['iar', 'iaris', 'iatur'], ['iamur', 'iamini', 'iantur']],
      [['erer', 'ereris', 'eretur'], ['eremur', 'eremini', 'erentur']],
      0,
      0,
      0,
      0
    ],
    [
    'ere',
    'imini'
    ],
    'i'
  ],
]
# 3

fou_con = [
  [
    [
      [['io', 'is', 'it'], ['imus', 'itis', 'iunt']],
      [['iebam', 'iebas', 'iebat'], ['iebamus', 'iebatis', 'iebant']],
      [['iam', 'ies', 'iet'], ['iemus', 'ietis', 'ient']],
      [['/i', '/isti', '/it'], ['/imus', '/istis', '/erunt']],
      [['/eram', '/eras', '/erat'], ['/eramus', '/eratis', '/erant']],
      [['/ero', '/eris', '/erit'], ['/erimus', '/eritis', '/erint']]
    ],
    [
      [['iam', 'ias', 'iat'], ['iamus', 'iatis', 'iant']],
      [['irem', 'ires', 'iret'], ['iremus', 'iretis', 'irent']],
      0,
      [['/erim', '/eris', '/erit'], ['/erimus', '/eritis', '/erint']],
      [['/issem', '/isses', '/isset'], ['/issemus', '/issetis', '/issent']],
      0
    ],
    [
    'i',
    'ite'
    ],
    [
    'ire',
    '/isse'
    ]
  ],
  [
    [
      [['ior', 'iris', 'itur'], ['imur', 'imini', 'iuntur']],
      [['iebar', 'iebaris', 'iebatur'], ['iebamur', 'iebamini', 'iebantur']],
      [['iar', 'ieris', 'ietur'], ['iemur', 'iemini', 'ientur']],
      0,
      0,
      0
    ],
    [
      [['iar', 'iaris', 'iatur'], ['iamur', 'iamini', 'iantur']],
      [['irer', 'ireris', 'iretur'], ['iremur', 'iremini', 'irentur']],
      0,
      0,
      0,
      0
    ],
    [
    'ire',
    'imini'
    ],
    'iri'
  ],
]
# 4

# perfect passive participle varies
# future passive participle: a, e, e, ie, ie


verb_con = [fir_con, sec_con, thi_con, thi_con_i, fou_con]

verbs = {
    #word: [infinitive, perfect, participle, declension_no, (0 if deponent, 1 if semi-deponent)]
    #Yes, I know the infinitive's a little redundant here, but maybe it'll have some use in a later version of the program. Plus, it helps to not confuse all the principal parts
    'ago': ['agere', 'egi', 'actus', 2],
    'ambulo': ['ambulare', 'ambulavi', 'ambulatus', 0],
    'amo': ['amare', 'amavi', 'amatus', 0],
    'audio': ['audire', 'audivi', 'auditus', 4],
    'capio': ['capere', 'cepi', 'captus', 3],
    'cogito': ['cogitare', 'cogitavi', 'cogitatus', 0],
    'credo': ['credere', 'credidi', 'creditus', 2],
    'cupio': ['cupere', 'cupivi', 'cupitus', 3],
    'debeo': ['debere', 'debui', 'debitus', 1],
    'dico': ['dicere', 'dixi', 'dictus', 2],
    'do': ['dare', 'dedi', 'datus', 0],
    'doceo': ['docere', 'docui', 'doctus', 1],
    'doleo': ['dolere', 'dolui', 0, 1],
    'exspecto': ['exspectare', 'exspectavi', 'exspectatus', 0],
    # excluding facio due to irregular subjunctive
    'fugio': ['fugere', 'fugi', 0, 3],
    'gero': ['gerere', 'gessi', 'gestus', 2],
    'habeo': ['habere', 'habui', 'habitus', 1],
    'habito': ['habitare', 'habitavi', 'habitatus', 0],
    'intellego': ['intellegere', 'intellexi', 'intellectus', 2],
    'iubeo': ['iubere', 'iussi', 'iussus', 1],
    'iudico': ['iudicare', 'iudicavi', 'iudicatus', 0],
    'libero': ['liberare', 'liberavi', 'liberatus', 0],
    'maneo': ['manere', 'mansi', 'mansus', 1],
    'mitto': ['mittere', 'misi', 'missus', 2],
    'moveo': ['movere', 'movi', 'motus', 1],
    'narro': ['narrare', 'narravi', 'narratus', 0],
    'navigo': ['navigare', 'navigavi', 'navigatus', 0],
    'occido': ['occidere', 'occidi', 'occisus', 2],
    'paro': ['parare', 'paravi', 'paratus', 0],
    'peto': ['petere', 'petivi', 'petitus', 2],
    'pono': ['ponere', 'posui', 'positus', 2],
    # posse excluded for irregularity
    'pugno': ['pugnare', 'pugnavi', 'pugnatus', 0],
    'puto': ['putare', 'putavi', 'putatus', 0],
    'relinquo': ['relinquere', 'reliqui', 'relictus', 2],
    'scio': ['scire', 'scivi', 'scitus', 4],
    'sentio': ['sentire', 'sensi', 'sensus', 4],
    # soleo presently excluded
    # sum is likely the worst offender in terms of irregularity. Plus, isn't it a little boring?
    'teneo': ['tenere', 'tenui', 'tentus', 1],
    'timeo': ['timere', 'timui', 0, 1],
    'venio': ['venire', 'veni', 'ventus', 4],
    'video': ['videre', 'vidi', 'visus', 1],
    'vinco': ['vincere', 'vici', 'victus', 2],
    'voco': ['vocare', 'vocavi', 'vocatus', 0],
}

#voice: 0: active, 1: passive, 2: any
#mood: 0: indicative, 1: subjunctive, 2: imperative, 3: infinitive, 4: any
#tense: 0: present, 1: imperfect, 2: future, 3: perfect, 4: pluperfect, 5: future perfect, 6: any
#number: 0: singular, 1: plural, 2: any
#person: 0: first, 1: second, 2: third, 3: any
def verb_check(word, voice, mood, tense, number, person):
  for i in verbs:
    present_stem = i[:-len(verb_con[verbs[i][3]][0][0][0][0][0])]
    perfect_stem = verbs[i][1][:1-len(verb_con[verbs[i][3]][0][0][3][0][0])]
    if (word.startswith(present_stem) and (tense == 0 or tense == 1 or tense == 2 or tense == 6)): # all present stem possibilities
      deponent = False
      for voice_ in range(2): # voice cycle
        if (voice_ == 0 and len(verbs[i]) == 5 and verbs[i][4] == 0): # checks for deponent: if voice_ is active but verb is deponent, skips and marks as deponent 
          deponent = True
          continue
        if (voice_ == voice or voice == 2 or (voice_ == 1 and voice == 0 and deponent)): # checks appropriate voice (deponents will match when voice_ is passive and voice is active)
          for mood_ in range(4): # mood cycle
            if (type(verb_con[verbs[i][3]][voice_][mood_]) == list): # don't want to index the sole passive infinitive now, do we?
              if (mood == mood_ or mood == 4): # skip mood if irrelevant
                if (mood_ == 0 or mood_ == 1): # ind and sub
                  for tense_ in range(3 - mood_): # tense (non zero) cycle
                    if (tense == tense_ or tense == 6): # check tense
                      for number_ in range(2): # number cycle
                        if (number == number_ or number == 2): # number check
                          for person_ in range(3): # person cycle
                            if ((person == person_ or person == 3) and word == ''.join((present_stem, verb_con[verbs[i][3]][voice_][mood_][tense_][number_][person_]))): # final check
                              return (word, voice_, mood_, tense_, number_, person_)
                elif (mood_ == 2): # imperative possibilities
                  for number_ in range(2): # number cycle
                    if (number == number_ or number == 2 and word == ''.join((present_stem, verb_con[verbs[i][3]][voice_][mood_][number_]))): # checks for imperative match
                      return (word, voice_, mood_, 6, number_, 3)
                else: # (active) infinitive possibility
                  if (word == ''.join((present_stem, verb_con[verbs[i][3]][voice_][mood_][0]))):
                    return (word, voice_, mood_, 0, 2, 3)
            elif (word == ''.join((present_stem, verb_con[verbs[i][3]][voice_][mood_]))): # well, if it is the passive infinitive, we want to check that
              return (word, voice_, mood_, 6, 2, 3)
    if (word.startswith(perfect_stem) and (tense == 3 or tense == 4 or tense == 5 or tense == 6)): # note: [1:] removes the slash
      if (voice == 0 or voice == 2):
        if (mood == 0 or mood == 4):
          for tense_ in range(3, 6):
            if (tense == tense_ or tense == 6):
              for number_ in range(2):
                if (number == number_ or number == 2):
                  for person_ in range(3):
                    if ((person == person_ or person == 3) and word == ''.join((perfect_stem, verb_con[verbs[i][3]][0][0][tense_][number_][person_][1:]))):
                      return (word, 0, 0, tense_, number_, person_)
        if (mood == 1 or mood == 4):
          for tense_ in range(3, 5):
            if (tense == tense_ or tense == 6):
              for number_ in range(2):
                if (number == number_ or number == 2):
                  for person_ in range(3):
                    if ((person == person_ or person == 3) and word == ''.join((perfect_stem, verb_con[verbs[i][3]][0][1][tense_][number_][person_][1:]))):
                      return (word, 0, 1, tense_, number_, person_)
        if (mood == 3 or mood == 4): # check perfect active infinitive
          if (word == ''.join((perfect_stem, verb_con[verbs[i][3]][0][3][1][1:]))): # match?
            return (word, 0, 3, 3, 2, 3)
  return 0

main()
